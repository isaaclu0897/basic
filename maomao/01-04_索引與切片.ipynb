{
 "cells": [
  {
   "cell_type": "markdown",
   "metadata": {},
   "source": [
    "# 索引和切片"
   ]
  },
  {
   "cell_type": "markdown",
   "metadata": {},
   "source": [
    "## 索引"
   ]
  },
  {
   "cell_type": "markdown",
   "metadata": {},
   "source": [
    "對於一個有序序列，可以通過索引的方法來訪問對應位置的值。字符串便是一個有序序列的例子，**Python**使用 `[]` 來對有序序列進行索引。"
   ]
  },
  {
   "cell_type": "code",
   "execution_count": 1,
   "metadata": {},
   "outputs": [
    {
     "data": {
      "text/plain": [
       "'h'"
      ]
     },
     "execution_count": 1,
     "metadata": {},
     "output_type": "execute_result"
    }
   ],
   "source": [
    "s = \"hello world\"\n",
    "s[0]"
   ]
  },
  {
   "cell_type": "markdown",
   "metadata": {},
   "source": [
    "**Python**中索引是從 `0` 開始的，所以索引 `0` 對應與序列的第 `1` 個元素。為了得到第 `5` 個元素，需要使用索引值 `4` 。"
   ]
  },
  {
   "cell_type": "code",
   "execution_count": 2,
   "metadata": {},
   "outputs": [
    {
     "data": {
      "text/plain": [
       "'o'"
      ]
     },
     "execution_count": 2,
     "metadata": {},
     "output_type": "execute_result"
    }
   ],
   "source": [
    "s[4]"
   ]
  },
  {
   "cell_type": "markdown",
   "metadata": {},
   "source": [
    "除了順序索引，Python還可以倒序索引值的用法，即從後向前開始計數，例如，索引 -2 表示倒數第 2 個元素："
   ]
  },
  {
   "cell_type": "code",
   "execution_count": 3,
   "metadata": {},
   "outputs": [
    {
     "data": {
      "text/plain": [
       "'l'"
      ]
     },
     "execution_count": 3,
     "metadata": {},
     "output_type": "execute_result"
    }
   ],
   "source": [
    "s[-2]"
   ]
  },
  {
   "cell_type": "markdown",
   "metadata": {},
   "source": [
    "索引不可以超過序列長度時，不然會報錯："
   ]
  },
  {
   "cell_type": "code",
   "execution_count": 4,
   "metadata": {},
   "outputs": [
    {
     "ename": "IndexError",
     "evalue": "string index out of range",
     "output_type": "error",
     "traceback": [
      "\u001b[0;31m---------------------------------------------------------------------------\u001b[0m",
      "\u001b[0;31mIndexError\u001b[0m                                Traceback (most recent call last)",
      "\u001b[0;32m<ipython-input-4-79ffc22473a3>\u001b[0m in \u001b[0;36m<module>\u001b[0;34m()\u001b[0m\n\u001b[0;32m----> 1\u001b[0;31m \u001b[0ms\u001b[0m\u001b[0;34m[\u001b[0m\u001b[0;36m11\u001b[0m\u001b[0;34m]\u001b[0m\u001b[0;34m\u001b[0m\u001b[0m\n\u001b[0m",
      "\u001b[0;31mIndexError\u001b[0m: string index out of range"
     ]
    }
   ],
   "source": [
    "s[11]"
   ]
  },
  {
   "cell_type": "markdown",
   "metadata": {},
   "source": [
    "## 切片"
   ]
  },
  {
   "cell_type": "markdown",
   "metadata": {},
   "source": [
    "分片用來從序列中提取出想要的子序列，其用法為：\n",
    "\n",
    "`var[lower:upper:step]`\n",
    "\n",
    "其範圍包括 lower ，但不包括 upper ，用數學表示就是 `[lower, upper)`， step 表示取值間隔大小，如果沒有默認為1。"
   ]
  },
  {
   "cell_type": "code",
   "execution_count": 5,
   "metadata": {},
   "outputs": [
    {
     "data": {
      "text/plain": [
       "'hello world'"
      ]
     },
     "execution_count": 5,
     "metadata": {},
     "output_type": "execute_result"
    }
   ],
   "source": [
    "s"
   ]
  },
  {
   "cell_type": "code",
   "execution_count": 6,
   "metadata": {},
   "outputs": [
    {
     "data": {
      "text/plain": [
       "'el'"
      ]
     },
     "execution_count": 6,
     "metadata": {},
     "output_type": "execute_result"
    }
   ],
   "source": [
    "s[1:3]"
   ]
  },
  {
   "cell_type": "markdown",
   "metadata": {},
   "source": [
    "切片中包含的元素的個數為 `3-1=2` 。"
   ]
  },
  {
   "cell_type": "markdown",
   "metadata": {},
   "source": [
    "也可以使用負索引來指定分片的範圍："
   ]
  },
  {
   "cell_type": "code",
   "execution_count": 7,
   "metadata": {},
   "outputs": [
    {
     "data": {
      "text/plain": [
       "'ello wor'"
      ]
     },
     "execution_count": 7,
     "metadata": {},
     "output_type": "execute_result"
    }
   ],
   "source": [
    "s[1:-2]"
   ]
  },
  {
   "cell_type": "markdown",
   "metadata": {},
   "source": [
    "包括索引 `1` 但是不包括索引 `-2` 。\n",
    "\n",
    "lower和upper可以省略，省略lower表示從開頭開始分片，省略upper意味著一直分片到結尾。"
   ]
  },
  {
   "cell_type": "code",
   "execution_count": 8,
   "metadata": {},
   "outputs": [
    {
     "data": {
      "text/plain": [
       "'hel'"
      ]
     },
     "execution_count": 8,
     "metadata": {},
     "output_type": "execute_result"
    }
   ],
   "source": [
    "s[:3]"
   ]
  },
  {
   "cell_type": "code",
   "execution_count": 9,
   "metadata": {},
   "outputs": [
    {
     "data": {
      "text/plain": [
       "'rld'"
      ]
     },
     "execution_count": 9,
     "metadata": {},
     "output_type": "execute_result"
    }
   ],
   "source": [
    "s[-3:]"
   ]
  },
  {
   "cell_type": "markdown",
   "metadata": {},
   "source": [
    "都沒有給定任何參數等同於自己"
   ]
  },
  {
   "cell_type": "code",
   "execution_count": 10,
   "metadata": {},
   "outputs": [
    {
     "data": {
      "text/plain": [
       "'hello world'"
      ]
     },
     "execution_count": 10,
     "metadata": {},
     "output_type": "execute_result"
    }
   ],
   "source": [
    "s[:] # s == s[:]"
   ]
  },
  {
   "cell_type": "markdown",
   "metadata": {},
   "source": [
    "每隔兩個取一個值："
   ]
  },
  {
   "cell_type": "code",
   "execution_count": 11,
   "metadata": {},
   "outputs": [
    {
     "data": {
      "text/plain": [
       "'hlowrd'"
      ]
     },
     "execution_count": 11,
     "metadata": {},
     "output_type": "execute_result"
    }
   ],
   "source": [
    "s[::2]"
   ]
  },
  {
   "cell_type": "markdown",
   "metadata": {},
   "source": [
    "當step的值為負時，為倒數，省略lower意味著從結尾開始分片，省略upper意味著一直分片到開頭。"
   ]
  },
  {
   "cell_type": "code",
   "execution_count": 12,
   "metadata": {},
   "outputs": [
    {
     "data": {
      "text/plain": [
       "'dlrow olleh'"
      ]
     },
     "execution_count": 12,
     "metadata": {},
     "output_type": "execute_result"
    }
   ],
   "source": [
    "s[::-1]"
   ]
  },
  {
   "cell_type": "markdown",
   "metadata": {},
   "source": [
    "當給定的upper超出字符串的長度（注意：因為不包含upper，所以可以等於）時，Python並不會報錯，不過只會計算到結尾。"
   ]
  },
  {
   "cell_type": "code",
   "execution_count": 13,
   "metadata": {},
   "outputs": [
    {
     "data": {
      "text/plain": [
       "'hello world'"
      ]
     },
     "execution_count": 13,
     "metadata": {},
     "output_type": "execute_result"
    }
   ],
   "source": [
    "s[:100]"
   ]
  },
  {
   "cell_type": "markdown",
   "metadata": {},
   "source": [
    "單元測試\n",
    "\n",
    "\n",
    "\n",
    "Q1:what is the output of this code?\n",
    "\n",
    "`\\>>> word = input('Enter a word: ')\n",
    "\n",
    " Enter a word: Cheese\n",
    " \n",
    " \\>>> print(word + 'shop')`\n",
    "\n",
    "\n",
    "Q2:\n",
    "`s = '今天天氣真好， 好像出去逛逛街！' # 逗號與後段一一個空格`\n",
    "\n",
    "1. s[17] = ?\n",
    "\n",
    "2. 如何去除中間的空格？\n",
    "\n",
    "3. 查找字元數可以用什麼函數？\n",
    "\n",
    "4. 如何將兩段字串合併成為一串？代碼如何寫？\n",
    "\n",
    "\n",
    "Q3:what is the output of this code?\n",
    "\n",
    "`\\>>> spam = '7'\n",
    " \n",
    " \\>>> spam = spam + '0'\n",
    " \n",
    " \\>>> eggs = int(spam) + 3\n",
    " \n",
    " \\>>> print(float(eggs))`\n",
    "\n",
    "\n",
    "Q4: what is the output of this code?\n",
    "\n",
    "`\\>>> s = \"hello, wold. It's a nice day~\"\n",
    "  \n",
    " \\>>> s = s[12: 70]\n",
    " \n",
    " \\>>> s = s[0: 5]\n",
    " \n",
    " \\>>> s`\n",
    " \n",
    "Q5: what is the output of this code?\n",
    "\n",
    "`\\>>> x = 3\n",
    "\n",
    " \\>>> num = 17\n",
    "\n",
    " \\>>> print(num % x)\n",
    "`"
   ]
  },
  {
   "cell_type": "markdown",
   "metadata": {},
   "source": [
    "## 使用“0”作为索引开头的原因"
   ]
  },
  {
   "cell_type": "markdown",
   "metadata": {},
   "source": [
    "### 使用`[low, up)`形式的原因"
   ]
  },
  {
   "cell_type": "markdown",
   "metadata": {},
   "source": [
    "假设需要表示字符串 `hello` 中的内部子串 `el` ：\n",
    "\n",
    "|方式|`[low, up)`|`(low, up]`|`(lower, upper)`|`[lower, upper]`\n",
    "|--|--|--|--|--|\n",
    "|表示|`[1,3)`|`(0,2]`|`(0,3)`|`[1,2]`\n",
    "|序列长度|`up - low`|`up - low`|`up - low - 1`|`up - low + 1`\n",
    "\n",
    "对长度来说，前两种方式比较好，因为不需要烦人的加一减一。\n",
    "\n",
    "现在只考虑前两种方法，假设要表示字符串`hello`中的从头开始的子串`hel`：\n",
    "\n",
    "|方式|`[low, up)`|`(low, up]`\n",
    "|--|--|\n",
    "|表示|`[0,3)`|`(-1,2]`|\n",
    "|序列长度|`up - low`|`up - low`|\n",
    "\n",
    "第二种表示方法从`-1`开始，不是很好，所以选择使用第一种`[low, up)`的形式。"
   ]
  },
  {
   "cell_type": "markdown",
   "metadata": {},
   "source": [
    "### 使用0-base的形式"
   ]
  },
  {
   "cell_type": "markdown",
   "metadata": {},
   "source": [
    "> Just too beautiful to ignore.  \n",
    "----Guido van Rossum"
   ]
  },
  {
   "cell_type": "markdown",
   "metadata": {},
   "source": [
    "两种简单的情况：\n",
    "\n",
    "- 从头开始的n个元素；\n",
    "    - 使用0-base：`[0, n)`\n",
    "    - 使用1-base：`[1, n+1)`\n",
    "\n",
    "- 第`i+1`个元素到第`i+n`个元素。\n",
    "    - 使用0-base：`[i, n+i)`\n",
    "    - 使用1-base：`[i+1, n+i+1)`\n",
    "\n",
    "1-base有个`+1`部分，所以不推荐。\n",
    "\n",
    "综合这两种原因，**Python**使用0-base的方法来进行索引。"
   ]
  }
 ],
 "metadata": {
  "kernelspec": {
   "display_name": "Python 3",
   "language": "python",
   "name": "python3"
  },
  "language_info": {
   "codemirror_mode": {
    "name": "ipython",
    "version": 3
   },
   "file_extension": ".py",
   "mimetype": "text/x-python",
   "name": "python",
   "nbconvert_exporter": "python",
   "pygments_lexer": "ipython3",
   "version": "3.6.5"
  }
 },
 "nbformat": 4,
 "nbformat_minor": 1
}
