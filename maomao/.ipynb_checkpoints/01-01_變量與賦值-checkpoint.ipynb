{
 "cells": [
  {
   "cell_type": "markdown",
   "metadata": {},
   "source": [
    "註解與變量、賦值\n",
    "==="
   ]
  },
  {
   "cell_type": "markdown",
   "metadata": {},
   "source": [
    "## 註解"
   ]
  },
  {
   "cell_type": "markdown",
   "metadata": {},
   "source": [
    "為何需要註解？（待補充）"
   ]
  },
  {
   "cell_type": "markdown",
   "metadata": {},
   "source": [
    "### 單行註解"
   ]
  },
  {
   "cell_type": "markdown",
   "metadata": {},
   "source": [
    "用井字號單進行註解"
   ]
  },
  {
   "cell_type": "code",
   "execution_count": 1,
   "metadata": {
    "collapsed": true
   },
   "outputs": [],
   "source": [
    "# 用井字號開頭的單行註解（習慣上前面會空一格）"
   ]
  },
  {
   "cell_type": "markdown",
   "metadata": {},
   "source": [
    "### 多行註解"
   ]
  },
  {
   "cell_type": "markdown",
   "metadata": {},
   "source": [
    "多行註解用三個引號，可以是單音號;也可以是雙引號，一般常用於說明文件。 "
   ]
  },
  {
   "cell_type": "code",
   "execution_count": 2,
   "metadata": {},
   "outputs": [
    {
     "name": "stdout",
     "output_type": "stream",
     "text": [
      "多行註解常用於說明文件\n"
     ]
    }
   ],
   "source": [
    "\"\"\" 多行註解用三個引號，\n",
    "    可以是單音號;也可以是雙引號，\n",
    "    一般常用於說明文件。    \n",
    "\"\"\"\n",
    "\n",
    "print('多行註解常用於說明文件')"
   ]
  },
  {
   "cell_type": "code",
   "execution_count": 3,
   "metadata": {},
   "outputs": [
    {
     "name": "stdout",
     "output_type": "stream",
     "text": [
      "Help on built-in function sum in module builtins:\n",
      "\n",
      "sum(iterable, start=0, /)\n",
      "    Return the sum of a 'start' value (default: 0) plus an iterable of numbers\n",
      "    \n",
      "    When the iterable is empty, return the start value.\n",
      "    This function is intended specifically for use with numeric values and may\n",
      "    reject non-numeric types.\n",
      "\n"
     ]
    }
   ],
   "source": [
    "# 讓我們看看函數 sum的說明文件\n",
    "help(sum)"
   ]
  },
  {
   "cell_type": "code",
   "execution_count": 4,
   "metadata": {},
   "outputs": [
    {
     "name": "stdout",
     "output_type": "stream",
     "text": [
      "Help on function my_sum in module __main__:\n",
      "\n",
      "my_sum(iterable, start=0)\n",
      "    Return the sum of a 'start' value (default: 0) plus an iterable of numbers\n",
      "    \n",
      "    When the iterable is empty, return the start value.\n",
      "    This function is intended specifically for use with numeric values and may\n",
      "    reject non-numeric types.\n",
      "\n"
     ]
    }
   ],
   "source": [
    "# 他的代碼其實長這樣\n",
    "def my_sum(iterable, start=0):\n",
    "    \"\"\" Return the sum of a 'start' value (default: 0) plus an iterable of numbers\n",
    "    \n",
    "    When the iterable is empty, return the start value.\n",
    "    This function is intended specifically for use with numeric values and may\n",
    "    reject non-numeric types.\n",
    "    \"\"\"\n",
    "    return 0\n",
    "help(my_sum)"
   ]
  },
  {
   "cell_type": "markdown",
   "metadata": {},
   "source": [
    "也常被用來做多行字符串進行字符串的運算。"
   ]
  },
  {
   "cell_type": "code",
   "execution_count": 5,
   "metadata": {},
   "outputs": [
    {
     "name": "stdout",
     "output_type": "stream",
     "text": [
      "\n",
      "也常被用來做多行字符串進行字符串的運算。\n",
      "p.s. 代碼中的斜槓是為了讓電腦判讀文字是連續的\n",
      "(如果不加去就會自動跳行)\n"
     ]
    }
   ],
   "source": [
    "sentence = \"\"\"\n",
    "也常被用來做多行字符串\\\n",
    "進行字符串的運算。\n",
    "p.s. 代碼中的斜槓是為了讓電腦判讀文字是連續的\n",
    "(如果不加去就會自動跳行)\"\"\"\n",
    "print(sentence)"
   ]
  },
  {
   "cell_type": "markdown",
   "metadata": {
    "collapsed": true
   },
   "source": [
    "## 變量"
   ]
  },
  {
   "cell_type": "markdown",
   "metadata": {},
   "source": [
    "### 變量命名的五個規則"
   ]
  },
  {
   "cell_type": "markdown",
   "metadata": {},
   "source": [
    "1. 通常是用英文單字或縮寫替識別字命名，以下為合法的變數名稱\n",
    "\n",
    "2. 不能用數字當開頭\n",
    "\n",
    "3. 不可使用關鍵字、內置函數名或識別字作為變量名(此類名稱不需要背下來，一般編輯器接會有高亮提示)\n",
    "\n",
    "4. 函數命名習慣與變數雷同，至於類別 (class) 較常採大寫駝峰型 (upper camel case) ，或用底線連接每個英文單字，例如\n",
    "\n",
    "5. 類別中的方法 (mehod) 與屬性 (attribute) 則較常採用小寫駝峰型 (lower camel case)，或用底線連接每個英文單字，例如"
   ]
  },
  {
   "cell_type": "markdown",
   "metadata": {},
   "source": [
    "#### case1: 合法的變數名稱"
   ]
  },
  {
   "cell_type": "markdown",
   "metadata": {},
   "source": [
    "variable_name\n",
    "\n",
    "_code\n",
    "\n",
    "CODE\n",
    "\n",
    "_1234(少用具有特殊意義)\n",
    "\n",
    "a1234\n",
    "\n",
    "someThing\n",
    "\n",
    "SomeThing\n",
    "\n",
    "這個也是變數名_不信你試試(可以接受 unicode字符)"
   ]
  },
  {
   "cell_type": "code",
   "execution_count": 6,
   "metadata": {},
   "outputs": [
    {
     "data": {
      "text/plain": [
       "'不知道內容要打什麼'"
      ]
     },
     "execution_count": 6,
     "metadata": {},
     "output_type": "execute_result"
    }
   ],
   "source": [
    "這個也是變數名_不信你試試 = '不知道內容要打什麼'\n",
    "這個也是變數名_不信你試試"
   ]
  },
  {
   "cell_type": "markdown",
   "metadata": {},
   "source": [
    "#### case2: 大寫駝峰型 (upper camel case)"
   ]
  },
  {
   "cell_type": "markdown",
   "metadata": {},
   "source": [
    "Class_Name\n",
    "\n",
    "ClassName"
   ]
  },
  {
   "cell_type": "markdown",
   "metadata": {},
   "source": [
    "#### case3: 小寫駝峰型 (lower camel case)"
   ]
  },
  {
   "cell_type": "markdown",
   "metadata": {},
   "source": [
    "method_name\n",
    "\n",
    "methodName"
   ]
  },
  {
   "cell_type": "markdown",
   "metadata": {},
   "source": [
    "Python 的關鍵字，如以下表\n",
    "\n",
    "p.s. 關鍵字 (keyword) 為具有語法功能的保留字 (reserved word)。"
   ]
  },
  {
   "cell_type": "markdown",
   "metadata": {},
   "source": [
    "\n",
    "|關鍵字表格|\n",
    "|---|\n",
    "|False|class|finally|is|return|\n",
    "|None|continue|for|lambda|try|\n",
    "|True|def|from|nonlocal|while\n",
    "|and|del|global|not|with\n",
    "|as|elif|if|or|yield\n",
    "|assert|else|import|pass\t\n",
    "|break|except|in|raise\n",
    "\n"
   ]
  },
  {
   "cell_type": "markdown",
   "metadata": {},
   "source": [
    "Python 的內置函數，如以下表"
   ]
  },
  {
   "cell_type": "markdown",
   "metadata": {},
   "source": [
    "|内置函数|\t\n",
    "|---|\n",
    "|abs()\t|divmod()\t|input()\t|open()\t|staticmethod()|\n",
    "|all()\t|enumerate()\t|int()\t|ord()\t|str()|\n",
    "|any()\t|eval()\t|isinstance()\t|pow()\t|sum()|\n",
    "|basestring()\t|execfile()\t|issubclass()\t|print()|\tsuper()|\n",
    "|bin()\t|file()\t|iter()|\tproperty()\t|tuple()|\n",
    "|bool()\t|filter()\t|len()\t|range()\t|type()|\n",
    "|byte   |array()\tfloat()|\tlist()|\traw_input()|\tunichr()|\n",
    "|callable()\t|format()|\tlocals()|\treduce()|\tunicode()|\n",
    "|chr()\t|frozenset()|\tlong()|\treload()|\tvars()|\n",
    "|classmethod()\t|getattr()|\tmap()|\trepr()|\txrange()|\n",
    "|cmp()\t|globals()|\tmax()|\treverse()|\tzip()|\n",
    "|compile()|\thasattr()|\tmemoryview()|\tround()|\t\\__import__\\()|\n",
    "|complex()\t|hash()|\tmin()|\tset()|\t\n",
    "|delattr()\t|help()|\tnext()|\tsetattr()|\t\n",
    "|dict()\t|hex()|\tobject()|\tslice()|\t\n",
    "|dir()\t|id()|\toct()|\tsorted()|\texec 内置表达式|"
   ]
  },
  {
   "cell_type": "markdown",
   "metadata": {},
   "source": [
    "### 優秀命名＆頑劣命名"
   ]
  },
  {
   "cell_type": "markdown",
   "metadata": {},
   "source": [
    "優秀："
   ]
  },
  {
   "cell_type": "code",
   "execution_count": 7,
   "metadata": {},
   "outputs": [
    {
     "name": "stdout",
     "output_type": "stream",
     "text": [
      "[1, 2, 3, 4, 5] 15\n"
     ]
    }
   ],
   "source": [
    "seris = [1, 2, 3, 4, 5]\n",
    "seris_sum = sum(seris)\n",
    "print(seris, seris_sum)"
   ]
  },
  {
   "cell_type": "markdown",
   "metadata": {},
   "source": [
    "頑劣："
   ]
  },
  {
   "cell_type": "code",
   "execution_count": 8,
   "metadata": {},
   "outputs": [
    {
     "name": "stdout",
     "output_type": "stream",
     "text": [
      "[1, 2, 3, 4, 5] 15\n"
     ]
    }
   ],
   "source": [
    "aaa = [1, 2, 3, 4, 5]\n",
    "bbb = sum(seris)\n",
    "print(aaa, bbb)"
   ]
  },
  {
   "cell_type": "markdown",
   "metadata": {},
   "source": [
    "## 賦值"
   ]
  },
  {
   "cell_type": "markdown",
   "metadata": {},
   "source": [
    "### 單變量賦值"
   ]
  },
  {
   "cell_type": "code",
   "execution_count": 9,
   "metadata": {},
   "outputs": [
    {
     "data": {
      "text/plain": [
       "1"
      ]
     },
     "execution_count": 9,
     "metadata": {},
     "output_type": "execute_result"
    }
   ],
   "source": [
    "a = 1 # 這是單變量賦值\n",
    "a # 查看變量 a"
   ]
  },
  {
   "cell_type": "markdown",
   "metadata": {},
   "source": [
    "### 多變量賦值"
   ]
  },
  {
   "cell_type": "code",
   "execution_count": 10,
   "metadata": {},
   "outputs": [
    {
     "name": "stdout",
     "output_type": "stream",
     "text": [
      "1 2\n"
     ]
    }
   ],
   "source": [
    "a, b = 1, 2\n",
    "print(a, b)"
   ]
  },
  {
   "cell_type": "markdown",
   "metadata": {},
   "source": [
    "### 變量名覆蓋"
   ]
  },
  {
   "cell_type": "code",
   "execution_count": 11,
   "metadata": {},
   "outputs": [
    {
     "data": {
      "text/plain": [
       "15"
      ]
     },
     "execution_count": 11,
     "metadata": {},
     "output_type": "execute_result"
    }
   ],
   "source": [
    "sum([1, 2, 3, 4, 5])"
   ]
  },
  {
   "cell_type": "markdown",
   "metadata": {},
   "source": [
    "千萬別這麼做！"
   ]
  },
  {
   "cell_type": "code",
   "execution_count": 12,
   "metadata": {},
   "outputs": [
    {
     "ename": "TypeError",
     "evalue": "'int' object is not callable",
     "output_type": "error",
     "traceback": [
      "\u001b[0;31m---------------------------------------------------------------------------\u001b[0m",
      "\u001b[0;31mTypeError\u001b[0m                                 Traceback (most recent call last)",
      "\u001b[0;32m<ipython-input-12-10c49d7fd307>\u001b[0m in \u001b[0;36m<module>\u001b[0;34m()\u001b[0m\n\u001b[1;32m      1\u001b[0m \u001b[0msum\u001b[0m \u001b[0;34m=\u001b[0m \u001b[0;36m1\u001b[0m\u001b[0;34m\u001b[0m\u001b[0m\n\u001b[0;32m----> 2\u001b[0;31m \u001b[0msum\u001b[0m\u001b[0;34m(\u001b[0m\u001b[0;34m[\u001b[0m\u001b[0;36m1\u001b[0m\u001b[0;34m,\u001b[0m \u001b[0;36m2\u001b[0m\u001b[0;34m,\u001b[0m \u001b[0;36m3\u001b[0m\u001b[0;34m,\u001b[0m \u001b[0;36m4\u001b[0m\u001b[0;34m,\u001b[0m \u001b[0;36m5\u001b[0m\u001b[0;34m]\u001b[0m\u001b[0;34m)\u001b[0m\u001b[0;34m\u001b[0m\u001b[0m\n\u001b[0m",
      "\u001b[0;31mTypeError\u001b[0m: 'int' object is not callable"
     ]
    }
   ],
   "source": [
    "sum = 1\n",
    "sum([1, 2, 3, 4, 5])"
   ]
  },
  {
   "cell_type": "markdown",
   "metadata": {},
   "source": [
    "### 小試身手\n",
    "\n",
    "利用創見一個中文變量名一個英文變量名並且使用多變量賦值進行相加減，最後打印出來"
   ]
  },
  {
   "cell_type": "code",
   "execution_count": null,
   "metadata": {
    "collapsed": true
   },
   "outputs": [],
   "source": [
    "# 示例\n",
    "數值1, num2 = 1, 2\n",
    "數值三 = 數值1 + num2\n",
    "print(數值1, num2, 數值三)"
   ]
  }
 ],
 "metadata": {
  "kernelspec": {
   "display_name": "Python 3",
   "language": "python",
   "name": "python3"
  },
  "language_info": {
   "codemirror_mode": {
    "name": "ipython",
    "version": 3
   },
   "file_extension": ".py",
   "mimetype": "text/x-python",
   "name": "python",
   "nbconvert_exporter": "python",
   "pygments_lexer": "ipython3",
   "version": "3.6.3"
  }
 },
 "nbformat": 4,
 "nbformat_minor": 2
}
