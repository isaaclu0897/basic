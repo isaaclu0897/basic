{
 "cells": [
  {
   "cell_type": "markdown",
   "metadata": {},
   "source": [
    "註解與變量、賦值\n",
    "==="
   ]
  },
  {
   "cell_type": "markdown",
   "metadata": {},
   "source": [
    "# 註解"
   ]
  },
  {
   "cell_type": "markdown",
   "metadata": {},
   "source": [
    "## 為何需要註解？(你覺得呢？)\n",
    "\n",
    "1. 透過較口語化的簡短敘述讓閱讀的人可以更快的了解這段程式碼的邏輯(共同開發、維護)\n",
    "2. 有時候自己會忘了為什麼自己要這樣寫代碼(給自己的備忘錄)\n",
    "3. 函數、模塊的說明(讓使用者了解如何使用你的代碼)\n",
    "\n",
    "不過註解的藝術就需要碼農自行體會了(我們這裡只能告訴你公認的註解風格)"
   ]
  },
  {
   "cell_type": "markdown",
   "metadata": {},
   "source": [
    "何為風格？\n",
    "\n",
    "风格是艺术概念，艺术作品在整体上呈现的有代表性的面貌。(百度解釋)\n",
    "\n",
    "簡單的來說，風格就是創作者的行為藝術。\n",
    "寫程式就是創作、作畫一樣，每一個人都會有一樣的畫風，會做出不一樣的作品。\n",
    "正因如此，每個人的風格都會不太一樣，都是獨一無二的。\n",
    "話雖如此，但是還是公認的美醜，因此也有公認的風格，所以你只要風格不要特殊，基本上大家都能接受的。"
   ]
  },
  {
   "cell_type": "markdown",
   "metadata": {},
   "source": [
    "## 單行註解"
   ]
  },
  {
   "cell_type": "markdown",
   "metadata": {},
   "source": [
    "用井字號單進行註解"
   ]
  },
  {
   "cell_type": "code",
   "execution_count": 1,
   "metadata": {},
   "outputs": [],
   "source": [
    "# 用井字號開頭的單行註解（習慣上前面會空一格，這是單行註解的風格）"
   ]
  },
  {
   "cell_type": "markdown",
   "metadata": {},
   "source": [
    "## 多行註解"
   ]
  },
  {
   "cell_type": "markdown",
   "metadata": {},
   "source": [
    "多行註解用三個引號，可以是單音號;也可以是雙引號，一般常用於說明文件。 "
   ]
  },
  {
   "cell_type": "code",
   "execution_count": 2,
   "metadata": {},
   "outputs": [
    {
     "data": {
      "text/plain": [
       "'值得一提的是，這樣的一行通常是字符串，而不是註解（因為已），千萬別搞混，不過要用還是可以臘～'"
      ]
     },
     "execution_count": 2,
     "metadata": {},
     "output_type": "execute_result"
    }
   ],
   "source": [
    "\"\"\" 多行註解用三個引號，（第一行第一格會空一格，而第一行通常是主題）\n",
    "可以是單音號;也可以是雙引號，（後行皆為描述，開頭會對其引號）\n",
    "一般常用於說明文件。    \n",
    "\"\"\"\n",
    "\n",
    "s = '值得一提的是，這樣的一行通常是字符串，而不是註解（因為已），千萬別搞混，不過要用還是可以臘～'\n",
    "s"
   ]
  },
  {
   "cell_type": "markdown",
   "metadata": {},
   "source": [
    "讓我們看看函數 sum的說明文件"
   ]
  },
  {
   "cell_type": "code",
   "execution_count": 3,
   "metadata": {},
   "outputs": [
    {
     "name": "stdout",
     "output_type": "stream",
     "text": [
      "Help on built-in function sum in module builtins:\n",
      "\n",
      "sum(iterable, start=0, /)\n",
      "    Return the sum of a 'start' value (default: 0) plus an iterable of numbers\n",
      "    \n",
      "    When the iterable is empty, return the start value.\n",
      "    This function is intended specifically for use with numeric values and may\n",
      "    reject non-numeric types.\n",
      "\n"
     ]
    }
   ],
   "source": [
    "help(sum)"
   ]
  },
  {
   "cell_type": "code",
   "execution_count": 4,
   "metadata": {},
   "outputs": [
    {
     "name": "stdout",
     "output_type": "stream",
     "text": [
      "Help on function my_sum in module __main__:\n",
      "\n",
      "my_sum(iterable, start=0)\n",
      "    Return the sum of a 'start' value (default: 0) plus an iterable of numbers\n",
      "    \n",
      "    When the iterable is empty, return the start value.\n",
      "    This function is intended specifically for use with numeric values and may\n",
      "    reject non-numeric types.\n",
      "\n"
     ]
    }
   ],
   "source": [
    "# 他的代碼其實長這樣\n",
    "def my_sum(iterable, start=0):\n",
    "    \"\"\" Return the sum of a 'start' value (default: 0) plus an iterable of numbers\n",
    "    \n",
    "    When the iterable is empty, return the start value.\n",
    "    This function is intended specifically for use with numeric values and may\n",
    "    reject non-numeric types.\n",
    "    \"\"\"\n",
    "    return 0\n",
    "help(my_sum)"
   ]
  },
  {
   "cell_type": "markdown",
   "metadata": {},
   "source": [
    "也常被用來做多行字符串進行字符串的運算。"
   ]
  },
  {
   "cell_type": "code",
   "execution_count": 5,
   "metadata": {},
   "outputs": [
    {
     "name": "stdout",
     "output_type": "stream",
     "text": [
      "\n",
      "也常被用來做多行字符串進行字符串的運算。\n",
      "p.s. 代碼中的斜槓是為了讓電腦判讀文字是連續的\n",
      "(如果不加去就會自動跳行)\n"
     ]
    }
   ],
   "source": [
    "sentence = \"\"\"\n",
    "也常被用來做多行字符串\\\n",
    "進行字符串的運算。\n",
    "p.s. 代碼中的斜槓是為了讓電腦判讀文字是連續的\n",
    "(如果不加去就會自動跳行)\"\"\"\n",
    "print(sentence)"
   ]
  },
  {
   "cell_type": "markdown",
   "metadata": {
    "collapsed": true
   },
   "source": [
    "# 變量"
   ]
  },
  {
   "cell_type": "markdown",
   "metadata": {},
   "source": [
    "## 變量命名的五個規則"
   ]
  },
  {
   "cell_type": "markdown",
   "metadata": {},
   "source": [
    "1. 通常是用英文單字或縮寫替識別字命名，以下為合法的變數名稱\n",
    "\n",
    "2. 不能用數字當開頭\n",
    "\n",
    "3. 不可使用關鍵字、內置函數名或識別字作為變量名(此類名稱不需要背下來，一般編輯器接會有高亮提示)\n",
    "\n",
    "4. 函數命名習慣與變數雷同，至於類別 (class) 較常採大寫駝峰型 (upper camel case) ，或用底線連接每個英文單字，例如\n",
    "\n",
    "5. 類別中的方法 (mehod) 與屬性 (attribute) 則較常採用小寫駝峰型 (lower camel case)，或用底線連接每個英文單字，例如"
   ]
  },
  {
   "cell_type": "markdown",
   "metadata": {},
   "source": [
    "**case1: 合法的變數名稱**"
   ]
  },
  {
   "cell_type": "markdown",
   "metadata": {},
   "source": [
    "variable_name\n",
    "\n",
    "_code\n",
    "\n",
    "CODE\n",
    "\n",
    "_1234(少用具有特殊意義)\n",
    "\n",
    "a1234\n",
    "\n",
    "someThing\n",
    "\n",
    "SomeThing\n",
    "\n",
    "這個也是變數名_不信你試試(可以接受 unicode字符(和編碼有關)，有些語言如VB就可以這樣做)"
   ]
  },
  {
   "cell_type": "code",
   "execution_count": 6,
   "metadata": {},
   "outputs": [
    {
     "data": {
      "text/plain": [
       "'不知道內容要打什麼'"
      ]
     },
     "execution_count": 6,
     "metadata": {},
     "output_type": "execute_result"
    }
   ],
   "source": [
    "這個也是變數名_不信你試試 = '不知道內容要打什麼'\n",
    "這個也是變數名_不信你試試"
   ]
  },
  {
   "cell_type": "markdown",
   "metadata": {},
   "source": [
    "**case2: 大寫駝峰型 (upper camel case)**"
   ]
  },
  {
   "cell_type": "markdown",
   "metadata": {},
   "source": [
    "Class_Name\n",
    "\n",
    "ClassName"
   ]
  },
  {
   "cell_type": "markdown",
   "metadata": {},
   "source": [
    "**case3: 小寫駝峰型 (lower camel case)**"
   ]
  },
  {
   "cell_type": "markdown",
   "metadata": {},
   "source": [
    "method_name\n",
    "\n",
    "methodName"
   ]
  },
  {
   "cell_type": "markdown",
   "metadata": {},
   "source": [
    "Python 的關鍵字，如以下表"
   ]
  },
  {
   "cell_type": "markdown",
   "metadata": {},
   "source": [
    "\n",
    "|關鍵字表格|\n",
    "|---|\n",
    "|False|class|finally|is|return|\n",
    "|None|continue|for|lambda|try|\n",
    "|True|def|from|nonlocal|while\n",
    "|and|del|global|not|with\n",
    "|as|elif|if|or|yield\n",
    "|assert|else|import|pass\t\n",
    "|break|except|in|raise\n",
    "\n"
   ]
  },
  {
   "cell_type": "markdown",
   "metadata": {},
   "source": [
    "**p.s. 關鍵字 (keyword) 為具有語法功能的保留字 (reserved word)。**"
   ]
  },
  {
   "cell_type": "markdown",
   "metadata": {},
   "source": [
    "Python 的內置函數，如以下表"
   ]
  },
  {
   "cell_type": "markdown",
   "metadata": {},
   "source": [
    "|内置函数|\t\n",
    "|---|\n",
    "|abs()\t|divmod()\t|input()\t|open()\t|staticmethod()|\n",
    "|all()\t|enumerate()\t|int()\t|ord()\t|str()|\n",
    "|any()\t|eval()\t|isinstance()\t|pow()\t|sum()|\n",
    "|basestring()\t|execfile()\t|issubclass()\t|print()|\tsuper()|\n",
    "|bin()\t|file()\t|iter()|\tproperty()\t|tuple()|\n",
    "|bool()\t|filter()\t|len()\t|range()\t|type()|\n",
    "|byte   |array()\tfloat()|\tlist()|\traw_input()|\tunichr()|\n",
    "|callable()\t|format()|\tlocals()|\treduce()|\tunicode()|\n",
    "|chr()\t|frozenset()|\tlong()|\treload()|\tvars()|\n",
    "|classmethod()\t|getattr()|\tmap()|\trepr()|\txrange()|\n",
    "|cmp()\t|globals()|\tmax()|\treverse()|\tzip()|\n",
    "|compile()|\thasattr()|\tmemoryview()|\tround()|\t\\__import__\\()|\n",
    "|complex()\t|hash()|\tmin()|\tset()|\t\n",
    "|delattr()\t|help()|\tnext()|\tsetattr()|\t\n",
    "|dict()\t|hex()|\tobject()|\tslice()|\t\n",
    "|dir()\t|id()|\toct()|\tsorted()|\texec 内置表达式|"
   ]
  },
  {
   "cell_type": "markdown",
   "metadata": {},
   "source": [
    "## 優秀命名＆頑劣命名"
   ]
  },
  {
   "cell_type": "markdown",
   "metadata": {},
   "source": [
    "優秀："
   ]
  },
  {
   "cell_type": "code",
   "execution_count": 7,
   "metadata": {},
   "outputs": [
    {
     "name": "stdout",
     "output_type": "stream",
     "text": [
      "[1, 2, 3, 4, 5] 15\n"
     ]
    }
   ],
   "source": [
    "seris = [1, 2, 3, 4, 5]\n",
    "seris_sum = sum(seris)\n",
    "print(seris, seris_sum)"
   ]
  },
  {
   "cell_type": "markdown",
   "metadata": {},
   "source": [
    "頑劣："
   ]
  },
  {
   "cell_type": "code",
   "execution_count": 8,
   "metadata": {},
   "outputs": [
    {
     "name": "stdout",
     "output_type": "stream",
     "text": [
      "[1, 2, 3, 4, 5] 15\n"
     ]
    }
   ],
   "source": [
    "aaa = [1, 2, 3, 4, 5]\n",
    "bbb = sum(seris)\n",
    "print(aaa, bbb)"
   ]
  },
  {
   "cell_type": "markdown",
   "metadata": {},
   "source": [
    "# 賦值"
   ]
  },
  {
   "cell_type": "markdown",
   "metadata": {},
   "source": [
    "## 單變量賦值"
   ]
  },
  {
   "cell_type": "code",
   "execution_count": 9,
   "metadata": {},
   "outputs": [
    {
     "data": {
      "text/plain": [
       "1"
      ]
     },
     "execution_count": 9,
     "metadata": {},
     "output_type": "execute_result"
    }
   ],
   "source": [
    "a = 1 # 這是單變量賦值\n",
    "a # 查看變量 a"
   ]
  },
  {
   "cell_type": "markdown",
   "metadata": {},
   "source": [
    "這個卻不是變量，是未知數(因為還沒宣告變數)"
   ]
  },
  {
   "cell_type": "code",
   "execution_count": 10,
   "metadata": {},
   "outputs": [
    {
     "ename": "NameError",
     "evalue": "name 'b' is not defined",
     "output_type": "error",
     "traceback": [
      "\u001b[0;31m---------------------------------------------------------------------------\u001b[0m",
      "\u001b[0;31mNameError\u001b[0m                                 Traceback (most recent call last)",
      "\u001b[0;32m<ipython-input-10-89e6c98d9288>\u001b[0m in \u001b[0;36m<module>\u001b[0;34m()\u001b[0m\n\u001b[0;32m----> 1\u001b[0;31m \u001b[0mb\u001b[0m\u001b[0;34m\u001b[0m\u001b[0m\n\u001b[0m",
      "\u001b[0;31mNameError\u001b[0m: name 'b' is not defined"
     ]
    }
   ],
   "source": [
    "b"
   ]
  },
  {
   "cell_type": "markdown",
   "metadata": {},
   "source": [
    "## 多變量賦值"
   ]
  },
  {
   "cell_type": "markdown",
   "metadata": {},
   "source": [
    "你可以這麼做："
   ]
  },
  {
   "cell_type": "code",
   "execution_count": 11,
   "metadata": {},
   "outputs": [
    {
     "data": {
      "text/plain": [
       "(1, 2)"
      ]
     },
     "execution_count": 11,
     "metadata": {},
     "output_type": "execute_result"
    }
   ],
   "source": [
    "a1, b1 = 1, 2\n",
    "a1, b1"
   ]
  },
  {
   "cell_type": "markdown",
   "metadata": {},
   "source": [
    "也可以這麼做："
   ]
  },
  {
   "cell_type": "code",
   "execution_count": 12,
   "metadata": {},
   "outputs": [
    {
     "data": {
      "text/plain": [
       "(1, 1)"
      ]
     },
     "execution_count": 12,
     "metadata": {},
     "output_type": "execute_result"
    }
   ],
   "source": [
    "a2 = b2 = 1\n",
    "a2, b2"
   ]
  },
  {
   "cell_type": "markdown",
   "metadata": {},
   "source": [
    "當然還可以這麼做："
   ]
  },
  {
   "cell_type": "code",
   "execution_count": 13,
   "metadata": {},
   "outputs": [
    {
     "data": {
      "text/plain": [
       "(1, 2)"
      ]
     },
     "execution_count": 13,
     "metadata": {},
     "output_type": "execute_result"
    }
   ],
   "source": [
    "a3 = 1, 2\n",
    "a3"
   ]
  },
  {
   "cell_type": "markdown",
   "metadata": {},
   "source": [
    "不過第三種賦值方式會改變變數的數據類型，他會變成一個tuple：（後面會詳加說明）"
   ]
  },
  {
   "cell_type": "code",
   "execution_count": 14,
   "metadata": {},
   "outputs": [
    {
     "name": "stdout",
     "output_type": "stream",
     "text": [
      "<class 'int'> <class 'int'>\n",
      "<class 'int'> <class 'int'>\n",
      "<class 'tuple'>\n"
     ]
    }
   ],
   "source": [
    "print(type(a1), type(b1))\n",
    "print(type(a2), type(b2))\n",
    "print(type(a3))"
   ]
  },
  {
   "cell_type": "markdown",
   "metadata": {},
   "source": [
    "不過tuple的內容物，還是原本的物件的，因此你可以把他想像成是一個容器 "
   ]
  },
  {
   "cell_type": "code",
   "execution_count": 15,
   "metadata": {},
   "outputs": [
    {
     "name": "stdout",
     "output_type": "stream",
     "text": [
      "<class 'int'> <class 'int'>\n"
     ]
    }
   ],
   "source": [
    "print(type(a3[0]), type(a3[1]))"
   ]
  },
  {
   "cell_type": "markdown",
   "metadata": {},
   "source": [
    "# 變量名覆蓋"
   ]
  },
  {
   "cell_type": "code",
   "execution_count": 16,
   "metadata": {},
   "outputs": [
    {
     "data": {
      "text/plain": [
       "15"
      ]
     },
     "execution_count": 16,
     "metadata": {},
     "output_type": "execute_result"
    }
   ],
   "source": [
    "sum([1, 2, 3, 4, 5])"
   ]
  },
  {
   "cell_type": "markdown",
   "metadata": {},
   "source": [
    "千萬別這麼做！"
   ]
  },
  {
   "cell_type": "code",
   "execution_count": 17,
   "metadata": {},
   "outputs": [
    {
     "ename": "TypeError",
     "evalue": "'int' object is not callable",
     "output_type": "error",
     "traceback": [
      "\u001b[0;31m---------------------------------------------------------------------------\u001b[0m",
      "\u001b[0;31mTypeError\u001b[0m                                 Traceback (most recent call last)",
      "\u001b[0;32m<ipython-input-17-8e79075d3133>\u001b[0m in \u001b[0;36m<module>\u001b[0;34m()\u001b[0m\n\u001b[1;32m      1\u001b[0m \u001b[0msum\u001b[0m \u001b[0;34m=\u001b[0m \u001b[0;36m1\u001b[0m\u001b[0;34m\u001b[0m\u001b[0m\n\u001b[0;32m----> 2\u001b[0;31m \u001b[0msum\u001b[0m\u001b[0;34m(\u001b[0m\u001b[0;34m[\u001b[0m\u001b[0;36m1\u001b[0m\u001b[0;34m,\u001b[0m \u001b[0;36m2\u001b[0m\u001b[0;34m,\u001b[0m \u001b[0;36m3\u001b[0m\u001b[0;34m,\u001b[0m \u001b[0;36m4\u001b[0m\u001b[0;34m,\u001b[0m \u001b[0;36m5\u001b[0m\u001b[0;34m]\u001b[0m\u001b[0;34m)\u001b[0m\u001b[0;34m\u001b[0m\u001b[0m\n\u001b[0m",
      "\u001b[0;31mTypeError\u001b[0m: 'int' object is not callable"
     ]
    }
   ],
   "source": [
    "sum = 1\n",
    "sum([1, 2, 3, 4, 5])"
   ]
  },
  {
   "cell_type": "markdown",
   "metadata": {},
   "source": [
    "### 小試身手\n",
    "\n",
    "利用創見一個中文變量名一個英文變量名並且使用多變量賦值進行相加減，最後打印出來"
   ]
  },
  {
   "cell_type": "code",
   "execution_count": 18,
   "metadata": {},
   "outputs": [
    {
     "name": "stdout",
     "output_type": "stream",
     "text": [
      "1 2 3\n"
     ]
    }
   ],
   "source": [
    "# 示例\n",
    "數值1, num2 = 1, 2\n",
    "數值三 = 數值1 + num2\n",
    "print(數值1, num2, 數值三)"
   ]
  }
 ],
 "metadata": {
  "kernelspec": {
   "display_name": "Python 3",
   "language": "python",
   "name": "python3"
  },
  "language_info": {
   "codemirror_mode": {
    "name": "ipython",
    "version": 3
   },
   "file_extension": ".py",
   "mimetype": "text/x-python",
   "name": "python",
   "nbconvert_exporter": "python",
   "pygments_lexer": "ipython3",
   "version": "3.6.5"
  }
 },
 "nbformat": 4,
 "nbformat_minor": 2
}
